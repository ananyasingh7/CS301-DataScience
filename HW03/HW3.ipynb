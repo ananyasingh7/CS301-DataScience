{
 "cells": [
  {
   "cell_type": "code",
   "execution_count": 1,
   "metadata": {},
   "outputs": [],
   "source": [
    "# Author: Ananya Singh\n",
    "# Date: 2020/02/15\n",
    "# CS301-006, Professor Watson\n",
    "# HW3 Solution\n",
    "# Brief description of the project: Using panda to analyze a subset of data\n",
    "# link to the git repo: https://github.com/ananyasingh7/CS301-DataScience/blob/master/HW03/HW3.ipynb\n",
    "# link-to-the-relevant-git-commit: https://github.com/ananyasingh7/CS301-DataScience/commit/cf50a4a5805eb8a81153b6a37860ffefc1b78961\n",
    "# name-of-the-branch: master"
   ]
  },
  {
   "cell_type": "code",
   "execution_count": 3,
   "metadata": {},
   "outputs": [],
   "source": [
    "import pandas as pd"
   ]
  },
  {
   "cell_type": "code",
   "execution_count": 1,
   "metadata": {},
   "outputs": [],
   "source": [
    "def data_reader(data_path):\n",
    "    try:\n",
    "        drinks_df = pd.read_csv(data_path)\n",
    "        return drinks_df\n",
    "    except IOError as err:\n",
    "        print(\"Error during reading, please try again\")"
   ]
  },
  {
   "cell_type": "code",
   "execution_count": null,
   "metadata": {},
   "outputs": [],
   "source": []
  },
  {
   "cell_type": "code",
   "execution_count": 66,
   "metadata": {},
   "outputs": [],
   "source": [
    "drinks = data_reader(\"~/Desktop/CS301-DataScience/HW03/drinks.csv\")"
   ]
  },
  {
   "cell_type": "code",
   "execution_count": 89,
   "metadata": {},
   "outputs": [],
   "source": [
    "def get_num_outliers(df,col):\n",
    "    spefColumn = df[col]\n",
    "    specificColumn = df[col].describe()\n",
    "    q1 = specificColumn.loc['25%']\n",
    "    q3 = specificColumn.loc['75%']\n",
    "    IQR = q3-q1\n",
    "    Q1Outlier = q1 - 1.5*IQR\n",
    "    Q3Outlier = q3 + 1.5*IQR\n",
    "    counter = 0\n",
    "    for num in spefColumn:\n",
    "        if num < Q1Outlier or num > Q3Outlier:\n",
    "            counter = counter + 1\n",
    "            \n",
    "    return counter\n",
    "    \n",
    "    "
   ]
  },
  {
   "cell_type": "code",
   "execution_count": 90,
   "metadata": {},
   "outputs": [],
   "source": [
    "drinks_df = pd.read_csv(\"~/Desktop/CS301-DataScience/HW03/drinks.csv\")"
   ]
  },
  {
   "cell_type": "code",
   "execution_count": 92,
   "metadata": {},
   "outputs": [
    {
     "data": {
      "text/plain": [
       "26"
      ]
     },
     "execution_count": 92,
     "metadata": {},
     "output_type": "execute_result"
    }
   ],
   "source": [
    "get_num_outliers(drinks_df,'wine_servings')"
   ]
  },
  {
   "cell_type": "code",
   "execution_count": 95,
   "metadata": {},
   "outputs": [
    {
     "data": {
      "text/plain": [
       "5"
      ]
     },
     "execution_count": 95,
     "metadata": {},
     "output_type": "execute_result"
    }
   ],
   "source": [
    "get_num_outliers(drinks_df,'spirit_servings')"
   ]
  },
  {
   "cell_type": "code",
   "execution_count": 105,
   "metadata": {},
   "outputs": [],
   "source": [
    "def get_num_deviants(df, col, multiplier):\n",
    "    spefColumn = df[col]\n",
    "    mean = df[col].describe()['mean']\n",
    "    std = df[col].describe()['std']\n",
    "    counter = 0\n",
    "    for num in spefColumn:\n",
    "        a = (num-mean)/std\n",
    "        if a > multiplier:\n",
    "            counter = counter + 1\n",
    "    return counter"
   ]
  },
  {
   "cell_type": "code",
   "execution_count": 100,
   "metadata": {},
   "outputs": [
    {
     "data": {
      "text/plain": [
       "79.69759845763012"
      ]
     },
     "execution_count": 100,
     "metadata": {},
     "output_type": "execute_result"
    }
   ],
   "source": [
    "drinks_df['wine_servings'].describe()['std']"
   ]
  },
  {
   "cell_type": "code",
   "execution_count": 106,
   "metadata": {},
   "outputs": [
    {
     "data": {
      "text/plain": [
       "28"
      ]
     },
     "execution_count": 106,
     "metadata": {},
     "output_type": "execute_result"
    }
   ],
   "source": [
    "get_num_deviants(drinks_df, 'wine_servings', 1)"
   ]
  },
  {
   "cell_type": "code",
   "execution_count": 107,
   "metadata": {},
   "outputs": [
    {
     "data": {
      "text/plain": [
       "15"
      ]
     },
     "execution_count": 107,
     "metadata": {},
     "output_type": "execute_result"
    }
   ],
   "source": [
    "get_num_deviants(drinks_df, 'wine_servings', 2)"
   ]
  },
  {
   "cell_type": "code",
   "execution_count": null,
   "metadata": {},
   "outputs": [],
   "source": []
  },
  {
   "cell_type": "code",
   "execution_count": null,
   "metadata": {},
   "outputs": [],
   "source": []
  }
 ],
 "metadata": {
  "kernelspec": {
   "display_name": "Python 3",
   "language": "python",
   "name": "python3"
  },
  "language_info": {
   "codemirror_mode": {
    "name": "ipython",
    "version": 3
   },
   "file_extension": ".py",
   "mimetype": "text/x-python",
   "name": "python",
   "nbconvert_exporter": "python",
   "pygments_lexer": "ipython3",
   "version": "3.7.4"
  }
 },
 "nbformat": 4,
 "nbformat_minor": 2
}
