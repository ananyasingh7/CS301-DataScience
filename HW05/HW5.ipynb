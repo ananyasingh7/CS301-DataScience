{
 "cells": [
  {
   "cell_type": "code",
   "execution_count": 129,
   "metadata": {},
   "outputs": [],
   "source": [
    "# Author: Ananya Singh\n",
    "# Date: 02/29/2020\n",
    "# CS301-006, Professor Watson\n",
    "# HW5 Solution\n",
    "# Brief description of the project: \n",
    "# link to the git repo: \n",
    "# link-to-the-relevant-git-commit: "
   ]
  },
  {
   "cell_type": "code",
   "execution_count": 130,
   "metadata": {},
   "outputs": [],
   "source": [
    "import pandas as pd\n",
    "pd.set_option('display.max_columns', 999)\n",
    "import numpy as np\n",
    "\n",
    "##Visualization Libraries\n",
    "import matplotlib as mpl\n",
    "import matplotlib.pyplot as plt\n",
    "%matplotlib inline"
   ]
  },
  {
   "cell_type": "code",
   "execution_count": 131,
   "metadata": {},
   "outputs": [],
   "source": [
    "data_df = pd.read_csv(\"~/Desktop/CS301-DataScience/HW05/student_class.csv\")"
   ]
  },
  {
   "cell_type": "code",
   "execution_count": 132,
   "metadata": {},
   "outputs": [
    {
     "data": {
      "text/html": [
       "<div>\n",
       "<style scoped>\n",
       "    .dataframe tbody tr th:only-of-type {\n",
       "        vertical-align: middle;\n",
       "    }\n",
       "\n",
       "    .dataframe tbody tr th {\n",
       "        vertical-align: top;\n",
       "    }\n",
       "\n",
       "    .dataframe thead th {\n",
       "        text-align: right;\n",
       "    }\n",
       "</style>\n",
       "<table border=\"1\" class=\"dataframe\">\n",
       "  <thead>\n",
       "    <tr style=\"text-align: right;\">\n",
       "      <th></th>\n",
       "      <th>Unnamed: 0</th>\n",
       "      <th>Name</th>\n",
       "      <th>Midterm</th>\n",
       "      <th>Final</th>\n",
       "      <th>Attendance</th>\n",
       "      <th>HW</th>\n",
       "      <th>Final Average</th>\n",
       "      <th>Final Letter</th>\n",
       "      <th>Numeric Bin</th>\n",
       "      <th>Majors</th>\n",
       "    </tr>\n",
       "  </thead>\n",
       "  <tbody>\n",
       "    <tr>\n",
       "      <td>0</td>\n",
       "      <td>0</td>\n",
       "      <td>Ariel</td>\n",
       "      <td>89</td>\n",
       "      <td>92</td>\n",
       "      <td>9</td>\n",
       "      <td>9</td>\n",
       "      <td>86.0</td>\n",
       "      <td>B+</td>\n",
       "      <td>80.0</td>\n",
       "      <td>BNFO</td>\n",
       "    </tr>\n",
       "    <tr>\n",
       "      <td>1</td>\n",
       "      <td>1</td>\n",
       "      <td>Brody</td>\n",
       "      <td>92</td>\n",
       "      <td>93</td>\n",
       "      <td>10</td>\n",
       "      <td>9</td>\n",
       "      <td>89.0</td>\n",
       "      <td>A</td>\n",
       "      <td>80.0</td>\n",
       "      <td>BNFO</td>\n",
       "    </tr>\n",
       "    <tr>\n",
       "      <td>2</td>\n",
       "      <td>2</td>\n",
       "      <td>Debra</td>\n",
       "      <td>76</td>\n",
       "      <td>88</td>\n",
       "      <td>8</td>\n",
       "      <td>6</td>\n",
       "      <td>74.0</td>\n",
       "      <td>C+</td>\n",
       "      <td>70.0</td>\n",
       "      <td>MATH</td>\n",
       "    </tr>\n",
       "    <tr>\n",
       "      <td>3</td>\n",
       "      <td>3</td>\n",
       "      <td>Rex</td>\n",
       "      <td>90</td>\n",
       "      <td>83</td>\n",
       "      <td>10</td>\n",
       "      <td>10</td>\n",
       "      <td>88.0</td>\n",
       "      <td>B+</td>\n",
       "      <td>80.0</td>\n",
       "      <td>MATH</td>\n",
       "    </tr>\n",
       "    <tr>\n",
       "      <td>4</td>\n",
       "      <td>4</td>\n",
       "      <td>Jerry</td>\n",
       "      <td>67</td>\n",
       "      <td>85</td>\n",
       "      <td>7</td>\n",
       "      <td>5</td>\n",
       "      <td>66.0</td>\n",
       "      <td>D</td>\n",
       "      <td>60.0</td>\n",
       "      <td>BNFO</td>\n",
       "    </tr>\n",
       "  </tbody>\n",
       "</table>\n",
       "</div>"
      ],
      "text/plain": [
       "   Unnamed: 0   Name  Midterm  Final  Attendance  HW  Final Average  \\\n",
       "0           0  Ariel       89     92           9   9           86.0   \n",
       "1           1  Brody       92     93          10   9           89.0   \n",
       "2           2  Debra       76     88           8   6           74.0   \n",
       "3           3    Rex       90     83          10  10           88.0   \n",
       "4           4  Jerry       67     85           7   5           66.0   \n",
       "\n",
       "  Final Letter  Numeric Bin Majors  \n",
       "0           B+         80.0   BNFO  \n",
       "1            A         80.0   BNFO  \n",
       "2           C+         70.0   MATH  \n",
       "3           B+         80.0   MATH  \n",
       "4            D         60.0   BNFO  "
      ]
     },
     "execution_count": 132,
     "metadata": {},
     "output_type": "execute_result"
    }
   ],
   "source": [
    "data_df.head()"
   ]
  },
  {
   "cell_type": "code",
   "execution_count": 133,
   "metadata": {},
   "outputs": [
    {
     "data": {
      "image/png": "[encoded data removed]",
      "text/plain": [
       "<Figure size 1008x576 with 1 Axes>"
      ]
     },
     "metadata": {
      "needs_background": "light"
     },
     "output_type": "display_data"
    }
   ],
   "source": [
    "#Problem 1\n",
    "\n",
    "mathFinalAvg = data_df.loc[(data_df['Majors']=='MATH')]['Final Average'].median()\n",
    "mathFinal = data_df.loc[(data_df['Majors']=='MATH')]['Final'].median()\n",
    "mathMidterm = data_df.loc[(data_df['Majors']=='MATH')]['Midterm'].median()\n",
    "ITFinalAvg = data_df.loc[(data_df['Majors']=='IT')]['Final Average'].median()\n",
    "ITFinal = data_df.loc[(data_df['Majors']=='IT')]['Final'].median()\n",
    "ITMidterm = data_df.loc[(data_df['Majors']=='IT')]['Midterm'].median()\n",
    "ISFinalAvg = data_df.loc[(data_df['Majors']=='IS')]['Final Average'].median()\n",
    "ISFinal = data_df.loc[(data_df['Majors']=='IS')]['Final'].median()\n",
    "ISMidterm = data_df.loc[(data_df['Majors']=='IS')]['Midterm'].median()\n",
    "CSFinalAvg = data_df.loc[(data_df['Majors']=='CS')]['Final Average'].median()\n",
    "CSFinal = data_df.loc[(data_df['Majors']=='CS')]['Final'].median()\n",
    "CSMidterm = data_df.loc[(data_df['Majors']=='CS')]['Midterm'].median()\n",
    "BNFOFinalAvg = data_df.loc[(data_df['Majors']=='BNFO')]['Final Average'].median()\n",
    "BNFOFinal = data_df.loc[(data_df['Majors']=='BNFO')]['Final'].median()\n",
    "BNFOMidterm = data_df.loc[(data_df['Majors']=='BNFO')]['Midterm'].median()\n",
    "\n",
    "N = 5\n",
    "FinalAvg_medians = (mathFinalAvg, ITFinalAvg, ISFinalAvg, CSFinalAvg, BNFOFinalAvg)\n",
    "Final_medians = (mathFinal, ITFinal, ISFinal, CSFinal, BNFOFinal)\n",
    "Midterm_medians = (mathMidterm, ITMidterm, ISMidterm, CSMidterm, BNFOMidterm)\n",
    "\n",
    "ind = np.arange(N) \n",
    "width = 0.25\n",
    "plt.gcf().set_size_inches(14, 8)\n",
    "plt.bar(ind, FinalAvg_medians, width, label='Final Avg')\n",
    "plt.bar(ind+0.25, Final_medians, width, label='Final')\n",
    "plt.bar(ind+0.50, Midterm_medians, width, label='Midterm')\n",
    "\n",
    "plt.ylabel('Median Scores')\n",
    "plt.xlabel('Major')\n",
    "plt.title('Median Midterm, Final, and Final Average Scores')\n",
    "plt.xticks(ind + width / 2, ('MATH', 'IT', 'IS', 'CS', 'BNFO'))\n",
    "plt.legend(loc='best')\n",
    "plt.show()\n"
   ]
  },
  {
   "cell_type": "code",
   "execution_count": 247,
   "metadata": {},
   "outputs": [
    {
     "data": {
      "text/plain": [
       "(array([ 1., 16., 30., 45., 47.,  6.]),\n",
       " array([ 40,  50,  60,  70,  80,  90, 100]),\n",
       " <a list of 6 Patch objects>)"
      ]
     },
     "execution_count": 247,
     "metadata": {},
     "output_type": "execute_result"
    },
    {
     "data": {
      "image/png": "[encoded data removed]",
      "text/plain": [
       "<Figure size 432x288 with 1 Axes>"
      ]
     },
     "metadata": {
      "needs_background": "light"
     },
     "output_type": "display_data"
    }
   ],
   "source": [
    "#Problem 2\n",
    "\n",
    "\n",
    "lst = []\n",
    "grade90and100 = data_df.loc[(data_df['Final Average'] > 90) & (data_df['Final Average'] < 100)].count()['Attendance']\n",
    "for a in range(0,grade90and100):\n",
    "    lst.append(91)\n",
    "grade80and90 = data_df.loc[(data_df['Final Average'] > 80) & (data_df['Final Average'] < 90)].count()['Attendance']\n",
    "for a in range(0,grade80and90):\n",
    "    lst.append(81)\n",
    "grade70and80 = data_df.loc[(data_df['Final Average'] > 70) & (data_df['Final Average'] < 80)].count()['Attendance']\n",
    "for a in range(0,grade70and80):\n",
    "    lst.append(71)\n",
    "grade60and70 = data_df.loc[(data_df['Final Average'] > 60) & (data_df['Final Average'] < 70)].count()['Attendance']\n",
    "for a in range(0,grade60and70):\n",
    "    lst.append(61)\n",
    "grade50and60 = data_df.loc[(data_df['Final Average'] > 50) & (data_df['Final Average'] < 60)].count()['Attendance']\n",
    "for a in range(0,grade50and60):\n",
    "    lst.append(51)\n",
    "grade40and50 = data_df.loc[(data_df['Final Average'] > 40) & (data_df['Final Average'] < 50)].count()['Attendance']\n",
    "for a in range(0,grade40and50):\n",
    "    lst.append(41)\n",
    "\n",
    "x1 = [grade40and50, grade50and60, grade60and70, grade70and80, grade80and90, grade90and100]\n",
    "x2 = [20,40,60,14,66,63,80,80,80,80,80, 89]\n",
    "bins = [40,50,60,70,80,90,100]\n",
    "plt.title('Number of Students in Each Grade Bin')\n",
    "plt.xlabel('Grade')\n",
    "plt.ylabel('Frequency')\n",
    "plt.hist(lst,bins)"
   ]
  },
  {
   "cell_type": "code",
   "execution_count": 341,
   "metadata": {},
   "outputs": [
    {
     "data": {
      "image/png": "[encoded data removed]",
      "text/plain": [
       "<Figure size 432x288 with 1 Axes>"
      ]
     },
     "metadata": {
      "needs_background": "light"
     },
     "output_type": "display_data"
    }
   ],
   "source": [
    "#Problem 3\n",
    "#shape 150\n",
    "\n",
    "midtermGrades = []\n",
    "finalGrades = []\n",
    "for num in range(0,150):\n",
    "    midtermGrades.append(data_df.loc[num][\"Midterm\"])\n",
    "    finalGrades.append(data_df.loc[num][\"Final\"])\n",
    "\n",
    "import matplotlib.pyplot as plt\n",
    "girls_grades = [89, 90, 70, 89, 100, 80, 90, 100, 80, 34]\n",
    "boys_grades = [30, 29, 49, 48, 100, 48, 38, 45, 20, 30]\n",
    "grades_range = [10, 20, 30, 40, 50, 60, 70, 80, 90, 100]\n",
    "fig=plt.figure()\n",
    "ax=fig.add_axes([0,0,1,1])\n",
    "ax.scatter(np.arange(50,100,0.3333333334), midtermGrades, color='r')\n",
    "ax.scatter(np.arange(50,100,0.3333333334), finalGrades, color='b')\n",
    "ax.set_xlabel('Exam Score')\n",
    "ax.set_ylabel('Final Average')\n",
    "ax.set_title('Exams vs Final Average')\n",
    "plt.show()"
   ]
  },
  {
   "cell_type": "code",
   "execution_count": null,
   "metadata": {},
   "outputs": [],
   "source": []
  },
  {
   "cell_type": "code",
   "execution_count": null,
   "metadata": {},
   "outputs": [],
   "source": []
  },
  {
   "cell_type": "code",
   "execution_count": null,
   "metadata": {},
   "outputs": [],
   "source": []
  }
 ],
 "metadata": {
  "kernelspec": {
   "display_name": "Python 3",
   "language": "python",
   "name": "python3"
  },
  "language_info": {
   "codemirror_mode": {
    "name": "ipython",
    "version": 3
   },
   "file_extension": ".py",
   "mimetype": "text/x-python",
   "name": "python",
   "nbconvert_exporter": "python",
   "pygments_lexer": "ipython3",
   "version": "3.7.4"
  }
 },
 "nbformat": 4,
 "nbformat_minor": 2
}
